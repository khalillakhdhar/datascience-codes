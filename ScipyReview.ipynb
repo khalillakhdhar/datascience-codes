{
 "cells": [
  {
   "cell_type": "code",
   "execution_count": 1,
   "id": "43333dbc",
   "metadata": {},
   "outputs": [
    {
     "name": "stdout",
     "output_type": "stream",
     "text": [
      "0.001\n"
     ]
    }
   ],
   "source": [
    "from scipy import constants\n",
    "print(constants.liter)"
   ]
  },
  {
   "cell_type": "code",
   "execution_count": 2,
   "id": "bd390989",
   "metadata": {},
   "outputs": [
    {
     "ename": "IndentationError",
     "evalue": "expected an indented block (<ipython-input-2-47ca39bf490d>, line 4)",
     "output_type": "error",
     "traceback": [
      "\u001b[1;36m  File \u001b[1;32m\"<ipython-input-2-47ca39bf490d>\"\u001b[1;36m, line \u001b[1;32m4\u001b[0m\n\u001b[1;33m    return x + cos(x)\u001b[0m\n\u001b[1;37m    ^\u001b[0m\n\u001b[1;31mIndentationError\u001b[0m\u001b[1;31m:\u001b[0m expected an indented block\n"
     ]
    }
   ],
   "source": [
    "from scipy.optimize import root\n",
    "from math import cos\n",
    "def eqn(x):\n",
    "return x + cos(x)\n",
    "myroot = root(eqn, 0)\n",
    "print(myroot.x)"
   ]
  },
  {
   "cell_type": "code",
   "execution_count": 5,
   "id": "bf11cad1",
   "metadata": {},
   "outputs": [
    {
     "name": "stdout",
     "output_type": "stream",
     "text": [
      "[-0.73908513]\n"
     ]
    }
   ],
   "source": [
    "from scipy.optimize import root\n",
    "from math import cos\n",
    "def eqn(x):\n",
    "    return x + cos(x)\n",
    "myroot = root(eqn, 0)\n",
    "print(myroot.x)"
   ]
  },
  {
   "cell_type": "code",
   "execution_count": 6,
   "id": "6d80dac5",
   "metadata": {},
   "outputs": [
    {
     "ename": "IndentationError",
     "evalue": "expected an indented block (<ipython-input-6-ed43963a4a85>, line 3)",
     "output_type": "error",
     "traceback": [
      "\u001b[1;36m  File \u001b[1;32m\"<ipython-input-6-ed43963a4a85>\"\u001b[1;36m, line \u001b[1;32m3\u001b[0m\n\u001b[1;33m    return x**2 + x + 2\u001b[0m\n\u001b[1;37m    ^\u001b[0m\n\u001b[1;31mIndentationError\u001b[0m\u001b[1;31m:\u001b[0m expected an indented block\n"
     ]
    }
   ],
   "source": [
    "from scipy.optimize import minimize\n",
    "def eqn(x):\n",
    "return x**2 + x + 2\n",
    "mymin = minimize(eqn, 0, method='BFGS')\n",
    "print(mymin)"
   ]
  },
  {
   "cell_type": "code",
   "execution_count": 7,
   "id": "100607e8",
   "metadata": {},
   "outputs": [
    {
     "name": "stdout",
     "output_type": "stream",
     "text": [
      "      fun: 1.75\n",
      " hess_inv: array([[0.50000001]])\n",
      "      jac: array([0.])\n",
      "  message: 'Optimization terminated successfully.'\n",
      "     nfev: 8\n",
      "      nit: 2\n",
      "     njev: 4\n",
      "   status: 0\n",
      "  success: True\n",
      "        x: array([-0.50000001])\n"
     ]
    }
   ],
   "source": [
    "from scipy.optimize import minimize\n",
    "def eqn(x):\n",
    "    return x**2 + x + 2\n",
    "mymin = minimize(eqn, 0, method='BFGS')\n",
    "print(mymin)"
   ]
  },
  {
   "cell_type": "code",
   "execution_count": 8,
   "id": "22a7b371",
   "metadata": {},
   "outputs": [
    {
     "name": "stdout",
     "output_type": "stream",
     "text": [
      "  (0, 5)\t1\n",
      "  (0, 6)\t1\n",
      "  (0, 8)\t2\n"
     ]
    }
   ],
   "source": [
    "import numpy as np\n",
    "from scipy.sparse import csr_matrix\n",
    "arr = np.array([0, 0, 0, 0, 0, 1, 1, 0, 2])\n",
    "print(csr_matrix(arr))"
   ]
  },
  {
   "cell_type": "code",
   "execution_count": 9,
   "id": "1be8d6a7",
   "metadata": {},
   "outputs": [
    {
     "name": "stdout",
     "output_type": "stream",
     "text": [
      "  (1, 2)\t1\n",
      "  (2, 0)\t1\n",
      "  (2, 2)\t2\n"
     ]
    }
   ],
   "source": [
    "import numpy as np\n",
    "from scipy.sparse import csr_matrix\n",
    "arr = np.array([[0, 0, 0], [0, 0, 1], [1, 0, 2]])\n",
    "mat = csr_matrix(arr)\n",
    "mat.eliminate_zeros()\n",
    "print(mat)"
   ]
  },
  {
   "cell_type": "code",
   "execution_count": 10,
   "id": "5ec00d75",
   "metadata": {},
   "outputs": [
    {
     "name": "stdout",
     "output_type": "stream",
     "text": [
      "  (1, 2)\t1\n",
      "  (2, 0)\t1\n",
      "  (2, 2)\t2\n"
     ]
    }
   ],
   "source": [
    "import numpy as np\n",
    "from scipy.sparse import csr_matrix\n",
    "arr = np.array([[0, 0, 0], [0, 0, 1], [1, 0, 2]])\n",
    "mat = csr_matrix(arr)\n",
    "mat.sum_duplicates()\n",
    "print(mat)"
   ]
  },
  {
   "cell_type": "code",
   "execution_count": 11,
   "id": "a61c4dfe",
   "metadata": {},
   "outputs": [
    {
     "name": "stdout",
     "output_type": "stream",
     "text": [
      "89.76923076923077\n"
     ]
    }
   ],
   "source": [
    "import numpy\n",
    "speed = [99,86,87,88,111,86,103,87,94,78,77,85,86]\n",
    "x = numpy.mean(speed)\n",
    "print(x)"
   ]
  },
  {
   "cell_type": "code",
   "execution_count": 12,
   "id": "89a961a0",
   "metadata": {},
   "outputs": [
    {
     "name": "stdout",
     "output_type": "stream",
     "text": [
      "87.0\n"
     ]
    }
   ],
   "source": [
    "y=numpy.median(speed)\n",
    "print(y)"
   ]
  },
  {
   "cell_type": "code",
   "execution_count": 15,
   "id": "362c2d95",
   "metadata": {},
   "outputs": [
    {
     "name": "stdout",
     "output_type": "stream",
     "text": [
      "ModeResult(mode=array([86]), count=array([3]))\n"
     ]
    }
   ],
   "source": [
    "from scipy import stats\n",
    "z=stats.mode(speed)\n",
    "print(z)"
   ]
  },
  {
   "cell_type": "code",
   "execution_count": null,
   "id": "1c361ab7",
   "metadata": {},
   "outputs": [],
   "source": [
    "prin"
   ]
  }
 ],
 "metadata": {
  "kernelspec": {
   "display_name": "Python 3",
   "language": "python",
   "name": "python3"
  },
  "language_info": {
   "codemirror_mode": {
    "name": "ipython",
    "version": 3
   },
   "file_extension": ".py",
   "mimetype": "text/x-python",
   "name": "python",
   "nbconvert_exporter": "python",
   "pygments_lexer": "ipython3",
   "version": "3.8.8"
  }
 },
 "nbformat": 4,
 "nbformat_minor": 5
}
